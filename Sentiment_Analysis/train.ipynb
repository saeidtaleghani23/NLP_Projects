{
 "cells": [
  {
   "cell_type": "code",
   "execution_count": 1,
   "metadata": {},
   "outputs": [
    {
     "name": "stderr",
     "output_type": "stream",
     "text": [
      "/opt/conda/v3/envs/nlp_env/lib/python3.10/site-packages/tqdm/auto.py:21: TqdmWarning: IProgress not found. Please update jupyter and ipywidgets. See https://ipywidgets.readthedocs.io/en/stable/user_install.html\n",
      "  from .autonotebook import tqdm as notebook_tqdm\n"
     ]
    }
   ],
   "source": [
    "from transformers import AutoTokenizer # type:ignore\n",
    "from datasets import load_dataset # type:ignore\n",
    "from transformers import DataCollatorWithPadding # type:ignore\n",
    "from torch.utils.data import DataLoader # type:ignore\n",
    "import torch # type:ignore\n",
    "from transformers import AutoModelForSequenceClassification, Trainer, TrainingArguments # type:ignore\n",
    "from sklearn.metrics import accuracy_score # type:ignore\n",
    "import yaml"
   ]
  },
  {
   "cell_type": "code",
   "execution_count": 2,
   "metadata": {},
   "outputs": [
    {
     "name": "stdout",
     "output_type": "stream",
     "text": [
      "Transformers: 4.49.0\n",
      "Datasets: 3.3.2\n",
      "Torch: 2.6.0+cu124\n",
      "Scikit-learn: 1.6.1\n",
      "PyYAML: 6.0.2\n"
     ]
    }
   ],
   "source": [
    "import transformers\n",
    "import datasets\n",
    "import torch\n",
    "import sklearn\n",
    "import yaml\n",
    "\n",
    "print(\"Transformers:\", transformers.__version__)\n",
    "print(\"Datasets:\", datasets.__version__)\n",
    "print(\"Torch:\", torch.__version__)\n",
    "print(\"Scikit-learn:\", sklearn.__version__)\n",
    "print(\"PyYAML:\", yaml.__version__)\n"
   ]
  },
  {
   "cell_type": "code",
   "execution_count": 3,
   "metadata": {},
   "outputs": [
    {
     "name": "stdout",
     "output_type": "stream",
     "text": [
      "pandas: 2.2.3\n",
      "numpy: 2.2.3\n",
      "matplotlib: 3.10.0\n",
      "seaborn: 0.13.2\n"
     ]
    }
   ],
   "source": [
    "import pandas\n",
    "import numpy\n",
    "import matplotlib\n",
    "import seaborn\n",
    "print(f\"pandas: {pandas.__version__}\")\n",
    "print(f\"numpy: {numpy.__version__}\")\n",
    "print(f\"matplotlib: {matplotlib.__version__}\")\n",
    "print(f\"seaborn: {seaborn.__version__}\")\n",
    "\n",
    "\n"
   ]
  },
  {
   "cell_type": "code",
   "execution_count": 4,
   "metadata": {},
   "outputs": [
    {
     "name": "stderr",
     "output_type": "stream",
     "text": [
      "Generating train split: 100%|██████████| 25000/25000 [00:00<00:00, 308285.02 examples/s]\n",
      "Generating test split: 100%|██████████| 25000/25000 [00:00<00:00, 373814.56 examples/s]\n",
      "Generating unsupervised split: 100%|██████████| 50000/50000 [00:00<00:00, 377516.96 examples/s]\n",
      "Generating train split: 100%|██████████| 560000/560000 [00:00<00:00, 718524.39 examples/s]\n",
      "Generating test split: 100%|██████████| 38000/38000 [00:00<00:00, 688684.16 examples/s]\n",
      "Generating train split: 100%|██████████| 3600000/3600000 [00:02<00:00, 1233493.26 examples/s]\n",
      "Generating test split: 100%|██████████| 400000/400000 [00:00<00:00, 1249735.82 examples/s]\n"
     ]
    },
    {
     "name": "stdout",
     "output_type": "stream",
     "text": [
      "['text', 'label']\n",
      "['text', 'label']\n",
      "['text', 'label']\n",
      "['label', 'title', 'content']\n"
     ]
    }
   ],
   "source": [
    "# Load dataset and print column names\n",
    "from datasets import load_dataset\n",
    "\n",
    "# Load the IMDB dataset\n",
    "imdb_dataset = load_dataset('imdb')\n",
    "\n",
    "# Load the Yelp Polarity dataset\n",
    "yelp_dataset = load_dataset('yelp_polarity')\n",
    "\n",
    "# Load the Amazon Polarity dataset\n",
    "amazon_dataset = load_dataset('amazon_polarity')\n",
    "\n",
    "# Check the structure of one dataset\n",
    "print(imdb_dataset['train'].column_names)  # Print column names for the train split\n",
    "\n",
    "dataset_imdb = load_dataset('imdb')\n",
    "print(dataset_imdb['train'].column_names)\n",
    "\n",
    "dataset_yelp = load_dataset('yelp_polarity')\n",
    "print(dataset_yelp['train'].column_names)\n",
    "\n",
    "dataset_amazon = load_dataset('amazon_polarity')\n",
    "print(dataset_amazon['train'].column_names)"
   ]
  },
  {
   "cell_type": "code",
   "execution_count": null,
   "metadata": {},
   "outputs": [],
   "source": []
  }
 ],
 "metadata": {
  "kernelspec": {
   "display_name": "nlp_env",
   "language": "python",
   "name": "python3"
  },
  "language_info": {
   "codemirror_mode": {
    "name": "ipython",
    "version": 3
   },
   "file_extension": ".py",
   "mimetype": "text/x-python",
   "name": "python",
   "nbconvert_exporter": "python",
   "pygments_lexer": "ipython3",
   "version": "3.10.16"
  }
 },
 "nbformat": 4,
 "nbformat_minor": 2
}
